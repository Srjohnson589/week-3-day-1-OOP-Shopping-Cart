{
 "cells": [
  {
   "cell_type": "markdown",
   "metadata": {},
   "source": [
    "# Object-Oriented-Programming (OOP)"
   ]
  },
  {
   "cell_type": "markdown",
   "metadata": {},
   "source": [
    "## Tasks Today:\n",
    "\n",
    "   \n",
    "\n",
    "1) <b>Creating a Class (Initializing/Declaring)</b> <br>\n",
    "2) <b>Using a Class (Instantiating)</b> <br>\n",
    " &nbsp;&nbsp;&nbsp;&nbsp; a) Creating One Instance <br>\n",
    " &nbsp;&nbsp;&nbsp;&nbsp; b) Creating Multiple Instances <br>\n",
    " &nbsp;&nbsp;&nbsp;&nbsp; c) In-Class Exercise #1 - Create a Class 'Car' and instantiate three different makes of cars <br>\n",
    "3) <b>The \\__init\\__() Method</b> <br>\n",
    " &nbsp;&nbsp;&nbsp;&nbsp; a) The 'self' Attribute <br>\n",
    "4) <b>Class Attributes</b> <br>\n",
    " &nbsp;&nbsp;&nbsp;&nbsp; a) Initializing Attributes <br>\n",
    " &nbsp;&nbsp;&nbsp;&nbsp; b) Setting an Attribute Outside of the \\__init\\__() Method <br>\n",
    " &nbsp;&nbsp;&nbsp;&nbsp; c) Setting Defaults for Attributes <br>\n",
    " &nbsp;&nbsp;&nbsp;&nbsp; d) Accessing Class Attributes <br>\n",
    " &nbsp;&nbsp;&nbsp;&nbsp; e) Changing Class Attributes <br>\n",
    " &nbsp;&nbsp;&nbsp;&nbsp; f) In-Class Exercise #2 - Add a color and wheels attribute to your 'Car' class <br>\n",
    "5) <b>Class Methods</b> <br>\n",
    " &nbsp;&nbsp;&nbsp;&nbsp; a) Creating <br>\n",
    " &nbsp;&nbsp;&nbsp;&nbsp; b) Calling <br>\n",
    " &nbsp;&nbsp;&nbsp;&nbsp; c) Modifying an Attribute's Value Through a Method <br>\n",
    " &nbsp;&nbsp;&nbsp;&nbsp; d) Incrementing an Attribute's Value Through a Method <br>\n",
    " &nbsp;&nbsp;&nbsp;&nbsp; e) In-Class Exercise #3 - Add a method that prints the cars color and wheel number, then call them <br>\n",
    "6) <b>Inheritance</b> <br>\n",
    " &nbsp;&nbsp;&nbsp;&nbsp; a) Syntax for Inheriting from a Parent Class <br>\n",
    " &nbsp;&nbsp;&nbsp;&nbsp; b) The \\__init\\__() Method for a Child Class (super()) <br>\n",
    " &nbsp;&nbsp;&nbsp;&nbsp; c) Defining Attributes and Methods for the Child Class <br>\n",
    " &nbsp;&nbsp;&nbsp;&nbsp; d) Method Overriding <br>\n",
    " &nbsp;&nbsp;&nbsp;&nbsp; e) In-Class Exercise #4 - Create a class 'Ford' that inherits from 'Car' class and initialize it as a Blue Ford Explorer with 4 wheels using the super() method <br>\n",
    "7) <b>Classes as Attributes</b> <br>\n",
    "8) <b>Exercises</b> <br>\n",
    " &nbsp;&nbsp;&nbsp;&nbsp; a) Exercise #1 - Turn the shopping cart program from yesterday into an object-oriented program <br>"
   ]
  },
  {
   "cell_type": "markdown",
   "metadata": {},
   "source": [
    "## Creating a Class (Initializing/Declaring)\n",
    "<p>When creating a class, function, or even a variable you are initializing that object. Initializing and Declaring occur at the same time in Python, whereas in lower level languages you have to declare an object before initializing it. This is the first step in the process of using a class.</p>"
   ]
  },
  {
   "cell_type": "code",
   "execution_count": 2,
   "metadata": {},
   "outputs": [],
   "source": [
    "class Ford():\n",
    "    wheels = 4\n",
    "    color = 'blue'\n"
   ]
  },
  {
   "cell_type": "markdown",
   "metadata": {},
   "source": [
    "## Using a Class (Instantiating)\n",
    "<p>The process of creating a class is called <i>Instantiating</i>. Each time you create a variable of that type of class, it is referred to as an <i>Instance</i> of that class. This is the second step in the process of using a class.</p>"
   ]
  },
  {
   "cell_type": "markdown",
   "metadata": {},
   "source": [
    "##### Creating One Instance"
   ]
  },
  {
   "cell_type": "code",
   "execution_count": 4,
   "metadata": {},
   "outputs": [
    {
     "name": "stdout",
     "output_type": "stream",
     "text": [
      "4\n"
     ]
    }
   ],
   "source": [
    "fusion = Ford()\n",
    "\n",
    "print(fusion.wheels)"
   ]
  },
  {
   "cell_type": "markdown",
   "metadata": {},
   "source": [
    "##### Creating Multiple Instances"
   ]
  },
  {
   "cell_type": "code",
   "execution_count": null,
   "metadata": {},
   "outputs": [],
   "source": [
    "explorer = Ford()\n",
    "mustang = Ford()\n",
    "f_150 = Ford()"
   ]
  },
  {
   "cell_type": "markdown",
   "metadata": {},
   "source": [
    "##### In-Class Exercise #1 - Create a Class 'Car' and Instantiate three different makes of cars"
   ]
  },
  {
   "cell_type": "code",
   "execution_count": 5,
   "metadata": {},
   "outputs": [],
   "source": [
    "class Car():\n",
    "    wheels = 4\n",
    "    body = '4 door'\n",
    "    shift = 'automatic'\n",
    "    speed = 10\n",
    "\n",
    "honda = Car()\n",
    "jeep = Car()\n",
    "tesla = Car()"
   ]
  },
  {
   "cell_type": "markdown",
   "metadata": {},
   "source": [
    "## The \\__init\\__() Method <br>\n",
    "<p>This method is used in almost every created class, and called only once upon the creation of the class instance. This method will initialize all variables needed for the object.</p>"
   ]
  },
  {
   "cell_type": "code",
   "execution_count": 6,
   "metadata": {},
   "outputs": [
    {
     "name": "stdout",
     "output_type": "stream",
     "text": [
      "white\n",
      "v4\n",
      "4\n"
     ]
    }
   ],
   "source": [
    "class Ford():\n",
    "    wheels = 4\n",
    "    \n",
    "    def __init__(self, year, color, engine):\n",
    "        self.year = year\n",
    "        self.color = color\n",
    "        self.engine = engine\n",
    "\n",
    "fusion = Ford('2017', 'white', 'v4')\n",
    "print(fusion.color)\n",
    "print(fusion.engine)\n",
    "print(fusion.wheels)\n"
   ]
  },
  {
   "cell_type": "markdown",
   "metadata": {},
   "source": [
    "##### The 'self' Attribute <br>\n",
    "<p>This attribute is required to keep track of specific instance's attributes. Without the self attribute, the program would not know how to reference or keep track of an instance's attributes.</p>"
   ]
  },
  {
   "cell_type": "code",
   "execution_count": null,
   "metadata": {},
   "outputs": [],
   "source": [
    "# see above"
   ]
  },
  {
   "cell_type": "markdown",
   "metadata": {},
   "source": [
    "## Class Attributes <br>\n",
    "<p>While variables are inside of a class, they are referred to as attributes and not variables. When someone says 'attribute' you know they're speaking about a class. Attributes can be initialized through the init method, or outside of it.</p>"
   ]
  },
  {
   "cell_type": "markdown",
   "metadata": {},
   "source": [
    "##### Initializing Attributes"
   ]
  },
  {
   "cell_type": "code",
   "execution_count": null,
   "metadata": {},
   "outputs": [],
   "source": [
    "# see above\n",
    "print(fusion.wheels)"
   ]
  },
  {
   "cell_type": "markdown",
   "metadata": {},
   "source": [
    "##### Accessing Class Attributes"
   ]
  },
  {
   "cell_type": "code",
   "execution_count": null,
   "metadata": {
    "scrolled": true
   },
   "outputs": [],
   "source": [
    "# See Above\n"
   ]
  },
  {
   "cell_type": "markdown",
   "metadata": {},
   "source": [
    "##### Setting Defaults for Attributes"
   ]
  },
  {
   "cell_type": "code",
   "execution_count": 10,
   "metadata": {},
   "outputs": [
    {
     "name": "stdout",
     "output_type": "stream",
     "text": [
      "6\n"
     ]
    }
   ],
   "source": [
    "class Ford():\n",
    "\n",
    "    \n",
    "    def __init__(self, year, color, engine, wheels = 4):\n",
    "        self.year = year\n",
    "        self.color = color\n",
    "        self.engine = engine\n",
    "        self.wheels = wheels\n",
    "\n",
    "\n",
    "tow_truck = Ford('1987', 'rust', 'diesel', 6)\n",
    "\n",
    "print(tow_truck.wheels)\n",
    "\n"
   ]
  },
  {
   "attachments": {},
   "cell_type": "markdown",
   "metadata": {},
   "source": [
    "##### Changing Instance Attributes <br>\n",
    "<p>Keep in mind there are global class attributes and then there are attributes only available to each class instance which won't effect other classes.</p>"
   ]
  },
  {
   "cell_type": "code",
   "execution_count": 12,
   "metadata": {},
   "outputs": [
    {
     "name": "stdout",
     "output_type": "stream",
     "text": [
      "white\n",
      "red\n"
     ]
    }
   ],
   "source": [
    "# see above\n",
    "\n",
    "print(fusion.color)\n",
    "fusion.color = 'red'\n",
    "print(fusion.color)"
   ]
  },
  {
   "cell_type": "markdown",
   "metadata": {},
   "source": [
    "##### In-Class Exercise #2 - Add a doors and seats attribute to your 'Car' class then print out two different instances with different doors and seats"
   ]
  },
  {
   "cell_type": "code",
   "execution_count": 14,
   "metadata": {},
   "outputs": [
    {
     "name": "stdout",
     "output_type": "stream",
     "text": [
      "automatic 4 7\n",
      "automatic 2 5\n"
     ]
    }
   ],
   "source": [
    "class Car():\n",
    "    wheels = 4\n",
    "    shift = 'automatic'\n",
    "    speed = 10\n",
    "    def __init__(self, doors, seats):\n",
    "        self.doors = doors\n",
    "        self.seats = seats\n",
    "\n",
    "honda = Car(4, 7)\n",
    "tesla = Car(2, 5)\n",
    "\n",
    "print(honda.shift, honda.doors, honda.seats)\n",
    "print(tesla.shift, tesla.doors, tesla.seats)"
   ]
  },
  {
   "cell_type": "markdown",
   "metadata": {},
   "source": [
    "## Class Methods <br>\n",
    "<p>While inside of a class, functions are referred to as 'methods'. If you hear someone mention methods, they're speaking about classes. Methods are essentially functions, but only callable on the instances of a class.</p>"
   ]
  },
  {
   "cell_type": "markdown",
   "metadata": {},
   "source": [
    "##### Creating"
   ]
  },
  {
   "cell_type": "code",
   "execution_count": 19,
   "metadata": {},
   "outputs": [
    {
     "name": "stdout",
     "output_type": "stream",
     "text": [
      "This 4 wheeled vehicle, is white and has a v4 engine.\n"
     ]
    }
   ],
   "source": [
    "class Ford():\n",
    "\n",
    "    \n",
    "    def __init__(self, year, color, engine, wheels = 4):\n",
    "        self.year = year\n",
    "        self.color = color\n",
    "        self.engine = engine\n",
    "        self.wheels = wheels\n",
    "\n",
    "    def info(self):\n",
    "        print(f'This {self.wheels} wheeled vehicle, is {self.color} and has a {self.engine} engine.')\n",
    "\n",
    "    def paint_job(self, new_color):\n",
    "        self.color = new_color\n",
    "        print(f'You have changed your car to {new_color}')\n",
    "\n",
    "    def get_wide(self):\n",
    "        self.wheels += 2\n",
    "        print(\"GET WIDE!\")\n",
    "\n",
    "fusion = Ford('2017', 'white', 'v4')\n",
    "\n",
    "fusion.info()"
   ]
  },
  {
   "cell_type": "markdown",
   "metadata": {},
   "source": [
    "##### Calling"
   ]
  },
  {
   "cell_type": "code",
   "execution_count": null,
   "metadata": {},
   "outputs": [],
   "source": [
    "# See Above"
   ]
  },
  {
   "cell_type": "markdown",
   "metadata": {},
   "source": [
    "##### Modifying an Attribute's Value Through a Method"
   ]
  },
  {
   "cell_type": "code",
   "execution_count": 17,
   "metadata": {},
   "outputs": [
    {
     "name": "stdout",
     "output_type": "stream",
     "text": [
      "You have changed your car to green\n"
     ]
    }
   ],
   "source": [
    "# see above\n",
    "fusion.paint_job('green')"
   ]
  },
  {
   "cell_type": "markdown",
   "metadata": {},
   "source": [
    "##### Incrementing an Attribute's Value Through a Method"
   ]
  },
  {
   "cell_type": "code",
   "execution_count": 21,
   "metadata": {},
   "outputs": [
    {
     "name": "stdout",
     "output_type": "stream",
     "text": [
      "GET WIDE!\n",
      "8\n"
     ]
    }
   ],
   "source": [
    "# see above\n",
    "fusion.get_wide()\n",
    "print(fusion.wheels)"
   ]
  },
  {
   "cell_type": "markdown",
   "metadata": {},
   "source": [
    "## Inheritance <br>\n",
    "<p>You can create a child-parent relationship between two classes by using inheritance. What this allows you to do is have overriding methods, but also inherit traits from the parent class. Think of it as an actual parent and child, the child will inherit the parent's genes, as will the classes in OOP</p>"
   ]
  },
  {
   "cell_type": "markdown",
   "metadata": {},
   "source": [
    "##### Syntax for Inheriting from a Parent Class"
   ]
  },
  {
   "cell_type": "code",
   "execution_count": 25,
   "metadata": {},
   "outputs": [
    {
     "name": "stdout",
     "output_type": "stream",
     "text": [
      "Hi, I'm christian and I'm 67 years old.\n",
      "christian: I think I'd like to have some waffles!\n",
      "christian has been banned!\n",
      "Hi, I'm dylan and I'm 100 years old.\n"
     ]
    }
   ],
   "source": [
    "class User():\n",
    "    admin = False\n",
    "    banned = False\n",
    "    def __init__(self, username, password, age):\n",
    "        self.username = username\n",
    "        self.password = password\n",
    "        self.age = age\n",
    "    \n",
    "    def info(self):\n",
    "        if self.banned:\n",
    "            print('You have no power')\n",
    "            return\n",
    "        print(f'Hi, I\\'m {self.username} and I\\'m {self.age} years old.')\n",
    "\n",
    "    def post(self, post):\n",
    "        if self.banned:\n",
    "            print('You have no power')\n",
    "        print(f'{self.username}: {post}')\n",
    "\n",
    "class Admin(User):\n",
    "    admin = True\n",
    "\n",
    "    def __init___(self, username, password, age, calendar=''):\n",
    "        super().__init__(username, password, age)\n",
    "        self.calendar = calendar\n",
    "\n",
    "    def set_calendar(self, url):\n",
    "        self.calendar = url\n",
    "        print('Calendar saved')\n",
    "        \n",
    "    def ban_user(self, user):\n",
    "        user.banned = True\n",
    "        print(f'{user.username} has been banned!')\n",
    "\n",
    "christian = User('christian', 'password', 67)\n",
    "\n",
    "christian.info()\n",
    "christian.post('I think I\\'d like to have some waffles!')\n",
    "\n",
    "dylan = Admin('dylan', 'jaskdf;aka', 100)\n",
    "\n",
    "dylan.ban_user(christian)\n",
    "\n",
    "dylan.info()"
   ]
  },
  {
   "cell_type": "markdown",
   "metadata": {},
   "source": [
    "##### The \\__init\\__() Method for a Child Class - super()"
   ]
  },
  {
   "cell_type": "code",
   "execution_count": null,
   "metadata": {
    "scrolled": true
   },
   "outputs": [],
   "source": [
    "# see above"
   ]
  },
  {
   "cell_type": "markdown",
   "metadata": {},
   "source": [
    "##### Defining Attributes and Methods for the Child Class"
   ]
  },
  {
   "cell_type": "code",
   "execution_count": null,
   "metadata": {},
   "outputs": [],
   "source": [
    "# See Above"
   ]
  },
  {
   "cell_type": "markdown",
   "metadata": {},
   "source": [
    "# Exercises"
   ]
  },
  {
   "cell_type": "markdown",
   "metadata": {},
   "source": [
    "### Exercise 1 - Turn the shopping cart program from yesterday into an object-oriented program\n",
    "\n",
    "The comments in the cell below are there as a guide for thinking about the problem. However, if you feel a different way is best for you and your own thought process, please do what feels best for you by all means."
   ]
  },
  {
   "cell_type": "code",
   "execution_count": 32,
   "metadata": {},
   "outputs": [
    {
     "name": "stdout",
     "output_type": "stream",
     "text": [
      "Welcome to your Shopping Cart!\n",
      "There are no items in your cart.\n",
      "\n",
      " ----------------- \n",
      " Goodbye!\n"
     ]
    }
   ],
   "source": [
    "# Create a class called cart that retains items and has methods to add, remove, and show\n",
    "#bonus: add a runner method\n",
    "\n",
    "class Cart():\n",
    "\n",
    "    def __init__(self):\n",
    "        self.cart = {}\n",
    "\n",
    "    def print_cart(self, cart):\n",
    "        if self.cart == {}:\n",
    "            print(\"There are no items in your cart.\")\n",
    "        else:\n",
    "            print(\"-----------------------\")\n",
    "            print(\"Your Shopping Cart:\")\n",
    "            for item, quantity in self.cart.items():\n",
    "                print(f\"{quantity} {item}\")\n",
    "\n",
    "    def add_remove(self, operation):\n",
    "        while True:\n",
    "            item = input(f\"What type of item would you like to {operation}?\").strip().lower()\n",
    "            if item == 'quit':\n",
    "                return 0\n",
    "            elif item == 'go back':\n",
    "                return\n",
    "            elif item.isalpha():\n",
    "                if item not in self.cart.keys():\n",
    "                    if operation == 'remove':\n",
    "                        print(f\"There are no {item} in your cart to remove.\")\n",
    "                        return\n",
    "                    self.cart[item] = 0         \n",
    "                print(f\"You currently have {self.cart[item]} {item} in your cart\")\n",
    "                while True:\n",
    "                    quantity = input(f\"How many {item} would you like to {operation}?\").strip()\n",
    "                    if quantity == 'quit':\n",
    "                        return 0\n",
    "                    elif quantity == 'go back':\n",
    "                        break\n",
    "                    elif quantity.isdigit() and int(quantity) > 1:\n",
    "                        if operation == 'add':\n",
    "                            self.cart[item] += int(quantity)\n",
    "                        elif operation == 'remove':\n",
    "                            self.cart[item] -= int(quantity)\n",
    "                            if self.cart[item] < 1:\n",
    "                                del self.cart[item]\n",
    "                        try:\n",
    "                            print(f\"You now have {self.cart[item]} {item} in your cart\")\n",
    "                        except:\n",
    "                            print(f\"You have removed all of the {item} from your cart.\")\n",
    "                        return\n",
    "                    else:\n",
    "                        print(\"Please enter the quantity in positive whole digits.\")\n",
    "            else:\n",
    "                print(f\"Please enter the name of the item you would like to {operation}. Or type 'go back' to choose a different action.\")\n",
    "\n",
    "    def go_shopping(self):           \n",
    "        print(\"Welcome to your Shopping Cart!\")\n",
    "        while True:\n",
    "            result = int\n",
    "            action = input(\"What would you like to do? Add, Show, Remove, or Quit\").strip().lower()\n",
    "            if action not in ['add','show','remove','quit']:\n",
    "                print(\"I didn't get that. Please type one of these actions for your Shopping Cart: Add, Show, Remove, or Quit\")\n",
    "            if action == 'quit':\n",
    "                break\n",
    "            elif action == 'show':\n",
    "                self.print_cart(self.cart)\n",
    "            elif action == 'add':\n",
    "                result = self.add_remove('add')\n",
    "            elif action == 'remove':\n",
    "                result = self.add_remove('remove')\n",
    "            if result == 0:\n",
    "                return\n",
    "        self.print_cart(self.cart)\n",
    "        return print(\"\\n ----------------- \\n Goodbye!\")\n",
    "    \n",
    "\n",
    "my_cart = Cart()\n",
    "\n",
    "my_cart.go_shopping()\n",
    "    "
   ]
  },
  {
   "cell_type": "markdown",
   "metadata": {},
   "source": [
    "### Exercise 2 - Write a Python class which has two methods get_String and print_String. get_String accept a string from the user and print_String print the string in upper case"
   ]
  },
  {
   "cell_type": "code",
   "execution_count": 30,
   "metadata": {},
   "outputs": [
    {
     "name": "stdout",
     "output_type": "stream",
     "text": [
      "HERE IS MY STRING!\n"
     ]
    }
   ],
   "source": [
    "class String():\n",
    "\n",
    "    def __init__(self, str=''):\n",
    "        self.str = str\n",
    "    \n",
    "    def get_String(self):\n",
    "        string = input(\"Type a string and I'll store it for you!\").strip()\n",
    "        self.str = string\n",
    "    \n",
    "    def print_String(self):\n",
    "        if self.str == '':\n",
    "            print(\"I don't have a string to print yet. Call get_String first.\")\n",
    "        print(self.str.upper())\n",
    "\n",
    "\n",
    "my_string = String()\n",
    "\n",
    "my_string.get_String()\n",
    "my_string.print_String()\n",
    "        \n",
    "\n"
   ]
  }
 ],
 "metadata": {
  "kernelspec": {
   "display_name": "Python 3",
   "language": "python",
   "name": "python3"
  },
  "language_info": {
   "codemirror_mode": {
    "name": "ipython",
    "version": 3
   },
   "file_extension": ".py",
   "mimetype": "text/x-python",
   "name": "python",
   "nbconvert_exporter": "python",
   "pygments_lexer": "ipython3",
   "version": "3.11.5"
  },
  "vscode": {
   "interpreter": {
    "hash": "aa82987a71ca0339a52998cd22613b0c002bda8349fa32a0cb67ceec3936a2bf"
   }
  }
 },
 "nbformat": 4,
 "nbformat_minor": 2
}
